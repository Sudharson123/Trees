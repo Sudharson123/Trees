{
 "cells": [
  {
   "cell_type": "code",
   "execution_count": 1,
   "id": "dd559d5c",
   "metadata": {},
   "outputs": [
    {
     "name": "stdout",
     "output_type": "stream",
     "text": [
      "Height of the binary tree is: 3\n"
     ]
    }
   ],
   "source": [
    "class TreeNode:\n",
    "    def __init__(self, val):\n",
    "        self.val = val\n",
    "        self.left = None\n",
    "        self.right = None\n",
    "def height(root):\n",
    " \n",
    "    # Check if the binary tree is empty\n",
    "    if root is None:\n",
    "        # If TRUE return 0\n",
    "        return 0 \n",
    "    # Recursively call height of each node\n",
    "    leftAns = height(root.left)\n",
    "    rightAns = height(root.right)\n",
    " \n",
    "    # Return max(leftHeight, rightHeight) at each iteration\n",
    "    return max(leftAns, rightAns) + 1\n",
    " \n",
    "# Test the algorithm\n",
    "root = TreeNode(1)\n",
    "root.left = TreeNode(2)\n",
    "root.right = TreeNode(3)\n",
    "root.left.left = TreeNode(4)\n",
    " \n",
    "print(\"Height of the binary tree is: \" + str(height(root)))"
   ]
  },
  {
   "cell_type": "code",
   "execution_count": null,
   "id": "61c03eb3",
   "metadata": {},
   "outputs": [],
   "source": []
  }
 ],
 "metadata": {
  "kernelspec": {
   "display_name": "Python 3 (ipykernel)",
   "language": "python",
   "name": "python3"
  },
  "language_info": {
   "codemirror_mode": {
    "name": "ipython",
    "version": 3
   },
   "file_extension": ".py",
   "mimetype": "text/x-python",
   "name": "python",
   "nbconvert_exporter": "python",
   "pygments_lexer": "ipython3",
   "version": "3.10.0"
  }
 },
 "nbformat": 4,
 "nbformat_minor": 5
}
