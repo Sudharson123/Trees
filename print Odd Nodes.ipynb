{
 "cells": [
  {
   "cell_type": "code",
   "execution_count": 1,
   "id": "e59f6855",
   "metadata": {},
   "outputs": [
    {
     "name": "stdout",
     "output_type": "stream",
     "text": [
      "1 4 5 "
     ]
    }
   ],
   "source": [
    "class newNode:\n",
    "    def __init__(self, data):\n",
    "        self.data = data\n",
    "        self.left = self.right = None\n",
    "def printOddNodes(root, isOdd = True):\n",
    "    if (root == None):\n",
    "        return\n",
    "    if (isOdd):\n",
    "        print(root.data, end = \" \")\n",
    "    printOddNodes(root.left, not isOdd)\n",
    "    printOddNodes(root.right, not isOdd)\n",
    "root = newNode(1)\n",
    "root.left = newNode(2)\n",
    "root.right = newNode(3)\n",
    "root.left.left = newNode(4)\n",
    "root.left.right = newNode(5)\n",
    "printOddNodes(root)\n",
    "     "
   ]
  },
  {
   "cell_type": "code",
   "execution_count": null,
   "id": "77843fb8",
   "metadata": {},
   "outputs": [],
   "source": []
  }
 ],
 "metadata": {
  "kernelspec": {
   "display_name": "Python 3 (ipykernel)",
   "language": "python",
   "name": "python3"
  },
  "language_info": {
   "codemirror_mode": {
    "name": "ipython",
    "version": 3
   },
   "file_extension": ".py",
   "mimetype": "text/x-python",
   "name": "python",
   "nbconvert_exporter": "python",
   "pygments_lexer": "ipython3",
   "version": "3.10.0"
  }
 },
 "nbformat": 4,
 "nbformat_minor": 5
}
