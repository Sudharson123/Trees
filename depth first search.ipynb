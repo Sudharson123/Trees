{
 "cells": [
  {
   "cell_type": "code",
   "execution_count": 1,
   "id": "bd81ab59",
   "metadata": {},
   "outputs": [
    {
     "name": "stdout",
     "output_type": "stream",
     "text": [
      "Following is Depth First Traversal \n",
      "\n",
      "0 1 2 3 "
     ]
    }
   ],
   "source": [
    "\n",
    "from collections import defaultdict\n",
    "class Graph:\n",
    "    def __init__(self):\n",
    "        self.graph = defaultdict(list)\n",
    "    def addEdge(self, u, v):\n",
    "        self.graph[u].append(v)\n",
    "    def DFSUtil(self, v, visited):\n",
    "        visited.add(v)\n",
    "        print(v,end=\" \")\n",
    "        for neighbour in self.graph[v]:\n",
    "            if neighbour not in visited:\n",
    "                self.DFSUtil(neighbour, visited)\n",
    "    def DFS(self):\n",
    "        visited = set()\n",
    "        for vertex in self.graph:\n",
    "            if vertex not in visited:\n",
    "                self.DFSUtil(vertex, visited)\n",
    "\n",
    "print(\"Following is Depth First Traversal \\n\")\n",
    "g = Graph()\n",
    "g.addEdge(0, 1)\n",
    "g.addEdge(0, 2)\n",
    "g.addEdge(1, 2)\n",
    "g.addEdge(2, 0)\n",
    "g.addEdge(2, 3)\n",
    "g.addEdge(3, 3)\n",
    "g.DFS()\n"
   ]
  },
  {
   "cell_type": "code",
   "execution_count": null,
   "id": "0d5ad999",
   "metadata": {},
   "outputs": [],
   "source": []
  }
 ],
 "metadata": {
  "kernelspec": {
   "display_name": "Python 3 (ipykernel)",
   "language": "python",
   "name": "python3"
  },
  "language_info": {
   "codemirror_mode": {
    "name": "ipython",
    "version": 3
   },
   "file_extension": ".py",
   "mimetype": "text/x-python",
   "name": "python",
   "nbconvert_exporter": "python",
   "pygments_lexer": "ipython3",
   "version": "3.10.0"
  }
 },
 "nbformat": 4,
 "nbformat_minor": 5
}
